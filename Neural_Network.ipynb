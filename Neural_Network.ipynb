{
 "cells": [
  {
   "cell_type": "code",
   "execution_count": 44,
   "metadata": {},
   "outputs": [],
   "source": [
    "import numpy as np"
   ]
  },
  {
   "cell_type": "markdown",
   "metadata": {},
   "source": [
    "# **Step 1: Implementing Gates, Activation Function and Loss Functions:**"
   ]
  },
  {
   "cell_type": "markdown",
   "metadata": {},
   "source": [
    "## 1- Gates:"
   ]
  },
  {
   "cell_type": "code",
   "execution_count": 45,
   "metadata": {},
   "outputs": [],
   "source": [
    "class Gate:\n",
    "    def forward(self):\n",
    "        raise NotImplementedError\n",
    "    \n",
    "    def backward(self):\n",
    "        raise NotImplementedError\n",
    "    \n",
    "class AddGate(Gate):\n",
    "    def forward(self, x, y):\n",
    "        self.x = x\n",
    "        self.y = y\n",
    "        return x + y\n",
    "    \n",
    "    def backward(self, dz):\n",
    "        dx = dz * np.ones_like(self.x)\n",
    "        dy = dz * np.ones_like(self.y) \n",
    "        return dx, dy\n",
    "    \n",
    "class MultiplyGate(Gate):\n",
    "    def forward(self, x, y):\n",
    "        self.x = x\n",
    "        self.y = y\n",
    "        return x * y\n",
    "    \n",
    "    def backward(self, dz):\n",
    "        dx = dz * self.y\n",
    "        dy = dz * self.x\n",
    "        \n",
    "        return dx, dy\n",
    "    \n",
    "    "
   ]
  },
  {
   "cell_type": "markdown",
   "metadata": {},
   "source": [
    "## 2- Activation Functions:"
   ]
  },
  {
   "cell_type": "code",
   "execution_count": 46,
   "metadata": {},
   "outputs": [],
   "source": [
    "class linear(Gate):\n",
    "    def forward(self, x):\n",
    "        self.x = x\n",
    "        return x\n",
    "    \n",
    "    def backward(self, dz):\n",
    "        return dz\n",
    "\n",
    "class relu(Gate):\n",
    "    def forward(self, x):\n",
    "        self.x = x\n",
    "        return np.maximum(0, x)\n",
    "    \n",
    "    def backward(self, dz):\n",
    "        return dz if self.x > 0 else 0\n",
    "\n",
    "class sigmoid(Gate):\n",
    "    def forward(self, x):\n",
    "        self.x = x\n",
    "        return 1 / (1 + np.exp(-np.array(x)))\n",
    "    \n",
    "    def backward(self, dz):\n",
    "        return dz * self.forward(self.x)(1 - self.forward(self.x))\n",
    "    \n",
    "\n",
    "class softmax(Gate):\n",
    "    def forward(self, x):\n",
    "        self.x = x\n",
    "        return np.exp(x) / np.sum(np.exp(x), axis = -1, keepdims = True)\n",
    "    \n",
    "    def backward(self, dz):\n",
    "        return dz * self.forward(self.x) * (1 - self.forward(self.x))\n",
    "\n",
    "class tanh(Gate):\n",
    "    def forward(self, x):\n",
    "        self.x = x\n",
    "        return np.tanh(x)\n",
    "    \n",
    "    def backward(self, dz):\n",
    "        return dz * (1 - np.tanh(self.x) * 2)"
   ]
  },
  {
   "cell_type": "markdown",
   "metadata": {},
   "source": [
    "## 3- Loss Functions:"
   ]
  },
  {
   "cell_type": "code",
   "execution_count": 47,
   "metadata": {},
   "outputs": [],
   "source": [
    "class binary_cross_entropy(Gate):\n",
    "    def forward(self, y, y_hat):\n",
    "        self.y = y\n",
    "        self.y_hat = y_hat\n",
    "        return - np.mean( y * np.log(y_hat) + (1 - y) * np.log(1 - y_hat))\n",
    "    \n",
    "    def backward(self, dz):\n",
    "        return dz * (self.y_hat - self.y) / (self.y_hat * (1 - self.y_hat))\n",
    "    \n",
    "    \n",
    "class l2_loss(Gate):\n",
    "    def forward(self, y, y_hat):\n",
    "        self.y = y\n",
    "        self.y_hat = y_hat\n",
    "        return 0.5 * np.mean(np.power(y - y_hat, 2))\n",
    "    \n",
    "    def backward(self, dz):\n",
    "        return dz * (self.y_hat - self.y)"
   ]
  },
  {
   "cell_type": "markdown",
   "metadata": {},
   "source": [
    "### Test cases:"
   ]
  },
  {
   "cell_type": "code",
   "execution_count": 49,
   "metadata": {},
   "outputs": [
    {
     "name": "stdout",
     "output_type": "stream",
     "text": [
      "x = 3, y = 4\n",
      "Add Gate =  7\n",
      "Multiply Gate =  12\n",
      "-> Relu of [-1, 2, 5, 0, -10, 6] =  [0 2 5 0 0 6]\n",
      "-> Sigmoid of [-1, 2, 5, 0, -10, 6] =  [2.68941421e-01 8.80797078e-01 9.93307149e-01 5.00000000e-01\n",
      " 4.53978687e-05 9.97527377e-01]\n",
      "-> Softmax of [-1, 2, 5, 0, -10, 6] =  [6.56225724e-04 1.31806460e-02 2.64740352e-01 1.78380646e-03\n",
      " 8.09846881e-08 7.19638889e-01]\n",
      "-> Tanh of [-1, 2, 5, 0, -10, 6] =  [-0.76159416  0.96402758  0.9999092   0.         -1.          0.99998771]\n",
      "--> BCE loss =  0.2231435513142097\n",
      "--> L2 loss =  0.01999999999999999\n"
     ]
    }
   ],
   "source": [
    "x = 3\n",
    "y = 4\n",
    "\n",
    "print(f\"x = {x}, y = {y}\")\n",
    "\n",
    "add_gate = AddGate()\n",
    "output = add_gate.forward(x,y)\n",
    "print(\"Add Gate = \", output)\n",
    "\n",
    "multiply_gate = MultiplyGate()\n",
    "output = multiply_gate.forward(x,y)\n",
    "print(\"Multiply Gate = \", output)\n",
    "\n",
    "relu_function = relu()\n",
    "output = relu_function.forward([-1, 2, 5, 0, -10, 6])\n",
    "print(\"-> Relu of [-1, 2, 5, 0, -10, 6] = \", output)\n",
    "\n",
    "sigmoid_function = sigmoid()\n",
    "output = sigmoid_function.forward([-1, 2, 5, 0, -10, 6])\n",
    "print(\"-> Sigmoid of [-1, 2, 5, 0, -10, 6] = \", output)\n",
    "\n",
    "softmax_function = softmax()\n",
    "output = softmax_function.forward([-1, 2, 5, 0, -10, 6])\n",
    "print(\"-> Softmax of [-1, 2, 5, 0, -10, 6] = \", output)\n",
    "\n",
    "tanh_function = tanh()\n",
    "output = tanh_function.forward([-1, 2, 5, 0, -10, 6])\n",
    "print(\"-> Tanh of [-1, 2, 5, 0, -10, 6] = \", output)\n",
    "\n",
    "bce_loss = binary_cross_entropy()\n",
    "result = bce_loss.forward(1, 0.8)\n",
    "print(\"--> BCE loss = \", result)\n",
    "\n",
    "mse_loss = l2_loss()\n",
    "result = mse_loss.forward(1, 0.8)\n",
    "print(\"--> L2 loss = \", result)"
   ]
  }
 ],
 "metadata": {
  "kernelspec": {
   "display_name": "Python 3",
   "language": "python",
   "name": "python3"
  },
  "language_info": {
   "codemirror_mode": {
    "name": "ipython",
    "version": 3
   },
   "file_extension": ".py",
   "mimetype": "text/x-python",
   "name": "python",
   "nbconvert_exporter": "python",
   "pygments_lexer": "ipython3",
   "version": "3.9.13"
  }
 },
 "nbformat": 4,
 "nbformat_minor": 2
}
